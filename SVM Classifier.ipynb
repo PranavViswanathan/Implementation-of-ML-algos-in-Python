{
 "cells": [
  {
   "cell_type": "markdown",
   "metadata": {},
   "source": [
    "# SVM Classifier"
   ]
  },
  {
   "cell_type": "markdown",
   "metadata": {},
   "source": [
    "“Support Vector Machine” (SVM) is a **supervised machine** learning algorithm which can be used for both **classification or regression** challenges. However,  it is **mostly used in classification** **plot each data item** as a point in **n-dimensional** space (where n is number of features you have) with the value of each feature being the value of a particular coordinate. Then, we **perform classification** by **finding** the **hyper-plane** that differentiate the two classes very well as shown below. **Support Vectors** are simply the co-ordinates of individual observation which are **closest to the hyper plane**."
   ]
  },
  {
   "cell_type": "markdown",
   "metadata": {},
   "source": [
    "![title](https://cdn-images-1.medium.com/max/600/0*0o8xIA4k3gXUDCFU.png)"
   ]
  },
  {
   "cell_type": "markdown",
   "metadata": {},
   "source": [
    "Note that there can be **multiple hyper planes** which can separate the data points but we want the hyperplane which **maximizes the margin i.e maximum distance between the support vectors.** "
   ]
  },
  {
   "cell_type": "markdown",
   "metadata": {},
   "source": [
    "## The Math behind SVM\n",
    "Check out following [video's](https://youtu.be/mA5nwGoRAOo) for detailed explanation<br><br>\n",
    "\n",
    "In order to implement the SVM from scratch, we need to understand the fundamental math behind it so that we can write code which helps us find the optimum hyperplane.As we can see from above image our key **objective is to find a optimum hyperplane which maximizes the margin**. Note that the **hyperplane** can be a **line(2D features) or a plane(for >2D features)**.\n",
    "\n",
    "Let us consider the case of 2D features, i.e the hyperplane is a line. Let the line is represented by the equation:\n",
    "\n",
    "$$ w.x +b $$ \n",
    "\n",
    "where **w** is the **slope(Weight)** of the line and **b** is the **intercept(bias)** for the line. **$x$** is the **feature space**. Our objective is the maximize the distance margin between positive and negative classes. We can formulate it as follows:\n",
    "For every $x_i$:\n",
    "\n",
    "$$ w.x_i + b >= 1$$ for $x_i$ having class 1\n",
    "$$or$$\n",
    "\n",
    "$$ w.x_i + b <= -1$$ for $x_i$ having class -1\n",
    "\n",
    "1. if w.x+b=0 then we get the decision boundary i.e optimum hyper plane\n",
    "2. if w.x+b=1 then we get (+)class hyperplane or +ve support vector\n",
    "3. if w.x+b=-1 then we get (-)class hyperplane or -ve support vector\n",
    "\n",
    "So above equations helps us set the hyper plane and decision boundary. But we also **need to maximize the margin i.e the distance between the +ve and -ve support vectors**. It gets reduced to following optimization problem:\n",
    "\n"
   ]
  },
  {
   "cell_type": "markdown",
   "metadata": {},
   "source": [
    "![title](https://cdn-images-1.medium.com/max/1200/1*colCMuTP_LN4zvjfrsZcQA.jpeg)"
   ]
  },
  {
   "cell_type": "markdown",
   "metadata": {},
   "source": [
    "So, as per our problem formulation, **D1** represents the **+ve** support vector and **D2** represents the **-ve** support vector. We want to maximize the distance between these two planes which reduces to maximizing $\\frac{2}{\\vert{w}\\vert}$. This can be better understood by following equation:\n",
    "$$ Max(W) = \\frac{((X+ - X-).w)}{|w|}$$ where X+.w = 1 and X-.w = -1\n",
    "\n",
    "So we can intern minimize |w| or 1/2 $|w|^2$ making it a convex optimization as shown above."
   ]
  },
  {
   "cell_type": "markdown",
   "metadata": {},
   "source": [
    "![title](https://cdn-images-1.medium.com/max/800/1*6mcff3dEDuTFT21IvlL1_Q.jpeg)"
   ]
  },
  {
   "cell_type": "markdown",
   "metadata": {},
   "source": [
    "Let $y$ represent the the true output label with $y_+$ as 1 and $y_-$ as -1. We multiply our support vector equation with $y$ and finally get the following equation as shown above:\n",
    "$$y_i (W^Tx+b) =1$$\n",
    "\n",
    "So the loss function for any $x_i$ is given as:\n",
    "![title](https://cdn-images-1.medium.com/max/1200/1*3xErahGeTFnbDiRuNXjAuA.png)"
   ]
  },
  {
   "cell_type": "markdown",
   "metadata": {},
   "source": [
    "i.e **f(x)** is the predicted class based on the **sign of $W^Tx+b$.** If the **predicted sign is correct**, there is **no loss** i.e 0, else the loss is given as above. Our **objective is to reduce this loss and minimize the |w| at the same time**. So, the final constrained equation looks like this:\n",
    "![title](https://cdn-images-1.medium.com/max/1200/1*GQAd28bK8LKOL2kOOFY-tg.png)"
   ]
  },
  {
   "cell_type": "markdown",
   "metadata": {},
   "source": [
    "**Note $\\lambda$ acts as regularization parameter. The objective of the regularization parameter is to balance the margin maximization and loss. **"
   ]
  },
  {
   "cell_type": "markdown",
   "metadata": {},
   "source": [
    "The gradients for above loss function is given as :\n",
    "![title](https://cdn-images-1.medium.com/max/800/1*WUphtYLfTOAoaXQXvImBeA.png)"
   ]
  },
  {
   "cell_type": "markdown",
   "metadata": {},
   "source": [
    "When there is no misclassification, i.e our model correctly predicts the class of our data point, we only have to update the gradient from the regularization parameter.\n",
    "![title](https://cdn-images-1.medium.com/max/800/1*-nKEXrWos8Iuf-DWSv_srQ.png)\n",
    "\n",
    "When there is a misclassification, i.e our model make a mistake on the prediction of the class of our data point, we include the loss along with the regularization parameter to perform gradient update.\n",
    "![title](https://cdn-images-1.medium.com/max/800/1*tnvMhAKaTUCO43diEvtTAQ.png)"
   ]
  },
  {
   "cell_type": "markdown",
   "metadata": {},
   "source": [
    "## Steps to implement SVM in code"
   ]
  },
  {
   "cell_type": "markdown",
   "metadata": {},
   "source": [
    "Now that we have understood the math behind SVM and have defined what we need to optimize, lets look at the code to implement it:\n"
   ]
  },
  {
   "cell_type": "markdown",
   "metadata": {},
   "source": [
    "### 1. Initialization\n",
    "We initialize the `l_rate` which is $\\alpha$ and `epoch` which is the number of iteration."
   ]
  },
  {
   "cell_type": "code",
   "execution_count": null,
   "metadata": {},
   "outputs": [],
   "source": [
    "class SVM:\n",
    "    def __init__(self, l_rate=.00001, epoch=100000):\n",
    "        self.l_rate = l_rate\n",
    "        self.epoch = epoch"
   ]
  },
  {
   "cell_type": "markdown",
   "metadata": {},
   "source": [
    "### 2. Fitting the data\n",
    "We initialize a weight matrix equal to the number of features. **Note we are not taking a bias term for simplicity**. Now for each x,y pair, we check the gradient update condition as discussed above and update it. Note we have kept $\\lambda$ as dynamic and it changes with each epoch. So, the updates are bigger initially and smaller subsequently. We also have a `plot` function, which plots the 2D graph of x,y and decision boundary."
   ]
  },
  {
   "cell_type": "code",
   "execution_count": null,
   "metadata": {},
   "outputs": [],
   "source": [
    "def fit(self, x, y, plot=True):\n",
    "    self.w = np.zeros(x.shape[1])\n",
    "\n",
    "    for e in range(self.epoch):\n",
    "\n",
    "        for i, val in enumerate(x):\n",
    "            val1 = np.dot(x[i], self.w)\n",
    "            if (y[i]*val1 < 1):\n",
    "                self.w = self.w + self.l_rate * ((y[i]*x[i]) - (2*(1/(e+1))*self.w))\n",
    "            else:\n",
    "                self.w = self.w + self.l_rate * (-2*(1/(e+1))*self.w)\n",
    "\n",
    "    if plot:\n",
    "        self.plot(x,y)"
   ]
  },
  {
   "cell_type": "markdown",
   "metadata": {},
   "source": [
    "### 3. Plotting the data and decision boundary\n",
    "The following function makes a 2D plot of x,y and also the decision boundary to help us visualize the fitted model."
   ]
  },
  {
   "cell_type": "code",
   "execution_count": null,
   "metadata": {},
   "outputs": [],
   "source": [
    "def plot(self, x, y):\n",
    "    for val, inp in enumerate(x):\n",
    "        if y[val] == -1:\n",
    "            plt.scatter(inp[0], inp[1], s=100, marker='_', linewidths=5)\n",
    "        else:\n",
    "            plt.scatter(inp[0], inp[1], s=100, marker='+', linewidths=5)  \n",
    "\n",
    "\n",
    "    axes = plt.gca()\n",
    "    x_vals = np.array(axes.get_xlim())\n",
    "    y_vals =-self.w[0]/self.w[1] * x_vals\n",
    "    plt.plot(x_vals, y_vals, '--')   "
   ]
  },
  {
   "cell_type": "markdown",
   "metadata": {},
   "source": [
    "### 4. Predict function\n",
    "Once we have found the optimum weight, we multiply them with test item features and predict as 1 or -1 based on the sign of the output."
   ]
  },
  {
   "cell_type": "code",
   "execution_count": null,
   "metadata": {},
   "outputs": [],
   "source": [
    "def predict(self, x):\n",
    "    y_pred = np.sum(self.w*x, axis=1)\n",
    "    return np.array([1 if y>0 else -1 for y in y_pred])"
   ]
  },
  {
   "cell_type": "markdown",
   "metadata": {},
   "source": [
    "## Putting everything together"
   ]
  },
  {
   "cell_type": "code",
   "execution_count": 288,
   "metadata": {},
   "outputs": [],
   "source": [
    "import pandas as pd\n",
    "import numpy as np\n",
    "import matplotlib as plt\n",
    "\n",
    "\n",
    "class SVM:\n",
    "    def __init__(self, l_rate=.00001, epoch=100000):\n",
    "        self.l_rate = l_rate\n",
    "        self.epoch = epoch\n",
    "    \n",
    "    def fit(self, x, y, plot=True):\n",
    "        self.w = np.zeros(len(x[0]))\n",
    "        \n",
    "        for e in range(self.epoch):\n",
    "    \n",
    "            for i, val in enumerate(x):\n",
    "                val1 = np.dot(x[i], self.w)\n",
    "                if (y[i]*val1 < 1):\n",
    "                    self.w = self.w + self.l_rate * ((y[i]*x[i]) - (2*(1/(e+1))*self.w))\n",
    "                else:\n",
    "                    self.w = self.w + self.l_rate * (-2*(1/(e+1))*self.w)\n",
    "        \n",
    "        if plot:\n",
    "            self.plot(x,y)\n",
    "            \n",
    "    def plot(self, x, y):\n",
    "        for val, inp in enumerate(x):\n",
    "            if y[val] == -1:\n",
    "                plt.scatter(inp[0], inp[1], s=100, marker='_', linewidths=5)\n",
    "            else:\n",
    "                plt.scatter(inp[0], inp[1], s=100, marker='+', linewidths=5)  \n",
    "\n",
    "\n",
    "        axes = plt.gca()\n",
    "        x_vals = np.array(axes.get_xlim())\n",
    "        y_vals =-self.w[0]/self.w[1] * x_vals\n",
    "        plt.plot(x_vals, y_vals, '--')   \n",
    "    \n",
    "    def predict(self, x):\n",
    "        y_pred = np.sum(self.w*x, axis=1)\n",
    "        return np.array([1 if y>0 else -1 for y in y_pred])"
   ]
  },
  {
   "cell_type": "markdown",
   "metadata": {},
   "source": [
    "**Note that above method is not the best way of implementing SVM for production and we have implemented a very simplified version to get an intuitive understanding of what goes behind the scene**. Normally, we use optimization libraries such as **cvxopt** to solve the optimization problem which does it in much more efficient and effective way. Please check out this [implementation](https://github.com/eriklindernoren/ML-From-Scratch/blob/master/mlfromscratch/supervised_learning/support_vector_machine.py) which is much more optimized and uses **cvxopt**."
   ]
  },
  {
   "cell_type": "markdown",
   "metadata": {},
   "source": [
    "## Checking our implementation"
   ]
  },
  {
   "cell_type": "code",
   "execution_count": 289,
   "metadata": {},
   "outputs": [],
   "source": [
    "from sklearn.datasets import load_iris\n",
    "iris = load_iris()\n",
    "x = iris.data\n",
    "y = iris.target"
   ]
  },
  {
   "cell_type": "markdown",
   "metadata": {},
   "source": [
    "We will use only **2 features and 2 classes** from the iris data for simplicity."
   ]
  },
  {
   "cell_type": "code",
   "execution_count": 290,
   "metadata": {},
   "outputs": [],
   "source": [
    "x = x[:100,:2]\n",
    "y = y[:100]"
   ]
  },
  {
   "cell_type": "code",
   "execution_count": 291,
   "metadata": {},
   "outputs": [],
   "source": [
    "y = np.array([1 if i>0 else -1 for i in y])"
   ]
  },
  {
   "cell_type": "code",
   "execution_count": 292,
   "metadata": {},
   "outputs": [
    {
     "data": {
      "image/png": "[encoded data removed]",
      "text/plain": [
       "<Figure size 432x288 with 1 Axes>"
      ]
     },
     "metadata": {},
     "output_type": "display_data"
    }
   ],
   "source": [
    "clf = SVM()\n",
    "clf.fit(x,y)"
   ]
  },
  {
   "cell_type": "markdown",
   "metadata": {},
   "source": [
    "Weights of decision boundary"
   ]
  },
  {
   "cell_type": "code",
   "execution_count": 293,
   "metadata": {},
   "outputs": [
    {
     "data": {
      "text/plain": [
       "array([ 2.33789749, -4.03062021])"
      ]
     },
     "execution_count": 293,
     "metadata": {},
     "output_type": "execute_result"
    }
   ],
   "source": [
    "clf.w"
   ]
  },
  {
   "cell_type": "code",
   "execution_count": 310,
   "metadata": {},
   "outputs": [
    {
     "name": "stdout",
     "output_type": "stream",
     "text": [
      "Accuracy: 0.99\n"
     ]
    }
   ],
   "source": [
    "print(\"Accuracy:\",np.sum(y==clf.predict(x))*1.0/len(y))"
   ]
  },
  {
   "cell_type": "markdown",
   "metadata": {},
   "source": [
    "### Sklearn implementation"
   ]
  },
  {
   "cell_type": "code",
   "execution_count": 311,
   "metadata": {},
   "outputs": [
    {
     "data": {
      "text/plain": [
       "SVC(C=1.0, cache_size=200, class_weight=None, coef0=0.0,\n",
       "  decision_function_shape='ovr', degree=1, gamma='auto', kernel='linear',\n",
       "  max_iter=-1, probability=False, random_state=None, shrinking=True,\n",
       "  tol=0.001, verbose=False)"
      ]
     },
     "execution_count": 311,
     "metadata": {},
     "output_type": "execute_result"
    }
   ],
   "source": [
    "from sklearn.svm import SVC\n",
    "skclf = SVC(kernel='linear', degree=1)\n",
    "skclf.fit(x,y)"
   ]
  },
  {
   "cell_type": "code",
   "execution_count": 312,
   "metadata": {},
   "outputs": [
    {
     "data": {
      "text/plain": [
       "array([[ 2.22720466, -2.24959915]])"
      ]
     },
     "execution_count": 312,
     "metadata": {},
     "output_type": "execute_result"
    }
   ],
   "source": [
    "skclf.coef_"
   ]
  },
  {
   "cell_type": "markdown",
   "metadata": {},
   "source": [
    "**We can see that our weights are different compared to sklearn's weight for decision boundary showing that out implementation is not optimized**."
   ]
  },
  {
   "cell_type": "code",
   "execution_count": 313,
   "metadata": {},
   "outputs": [
    {
     "name": "stdout",
     "output_type": "stream",
     "text": [
      "Accuracy: 1.0\n"
     ]
    }
   ],
   "source": [
    "print(\"Accuracy:\",np.sum(y==skclf.predict(x))*1.0/len(y))"
   ]
  },
  {
   "cell_type": "markdown",
   "metadata": {},
   "source": [
    "## Kernel Trick\n",
    "In SVM, it is easy to have a linear hyper-plane between these two classes. But, another burning question which arises is, should we need to add this feature manually to have a hyper-plane. No, SVM has a technique called the kernel trick. These are functions which takes low dimensional input space and transform it to a higher dimensional space i.e. it converts not separable problem to separable problem, these functions are called kernels. It is mostly useful in non-linear separation problem. Simply put, it does some extremely complex data transformations, then find out the process to separate the data based on the labels or outputs you’ve defined."
   ]
  },
  {
   "cell_type": "markdown",
   "metadata": {},
   "source": [
    "## Pros and Cons associated with SVM\n",
    "**Pros:**\n",
    "1. It works really well with clear margin of separation\n",
    "2. It is effective in high dimensional spaces.\n",
    "3. It is effective in cases where number of dimensions is greater than the number of samples.\n",
    "4. It uses a subset of training points in the decision function (called support vectors), so it is also memory efficient.\n",
    "\n",
    "**Cons:**\n",
    "1. It doesn’t perform well, when we have large data set because the required training time is higher\n",
    "2. It also doesn’t perform very well, when the data set has more noise i.e. target classes are overlapping\n",
    "3. SVM doesn’t directly provide probability estimates, these are calculated using an expensive five-fold cross-validation. It is related SVC method of Python scikit-learn library."
   ]
  },
  {
   "cell_type": "markdown",
   "metadata": {},
   "source": [
    "**Check out this [blog](https://medium.com/machine-learning-101/chapter-2-svm-support-vector-machine-theory-f0812effc72) for better understanding and various parameters to tune for SVM.**"
   ]
  },
  {
   "cell_type": "code",
   "execution_count": null,
   "metadata": {},
   "outputs": [],
   "source": []
  }
 ],
 "metadata": {
  "kernelspec": {
   "display_name": "Python 3",
   "language": "python",
   "name": "python3"
  },
  "language_info": {
   "codemirror_mode": {
    "name": "ipython",
    "version": 3
   },
   "file_extension": ".py",
   "mimetype": "text/x-python",
   "name": "python",
   "nbconvert_exporter": "python",
   "pygments_lexer": "ipython3",
   "version": "3.6.5"
  }
 },
 "nbformat": 4,
 "nbformat_minor": 2
}
